{
 "cells": [
  {
   "cell_type": "code",
   "execution_count": 5,
   "metadata": {},
   "outputs": [],
   "source": [
    "import pandas as pd\n",
    "from sklearn.model_selection import train_test_split\n",
    "from sklearn.preprocessing import LabelEncoder\n",
    "from sklearn.model_selection import KFold, cross_val_score\n",
    "from sklearn.model_selection import GridSearchCV\n",
    "from sklearn.svm import SVC\n",
    "from sklearn.metrics import accuracy_score"
   ]
  },
  {
   "cell_type": "code",
   "execution_count": 6,
   "metadata": {},
   "outputs": [],
   "source": [
    "# 读取 Excel 文件并指定工作表\n",
    "df = pd.read_excel(\"database_discretized.xlsx\", sheet_name=\"database_discretized\")\n",
    "\n",
    "# 打印前五行\n",
    "# print(df.columns.tolist())\n",
    "random_seed = 22\n",
    "\n",
    "# 全部label encoder\n",
    "encoder = LabelEncoder()\n",
    "for column in df.columns:\n",
    "    df[column] = encoder.fit_transform(df[column])\n",
    "\n",
    "# divide label\n",
    "y = df[\"target\"]\n",
    "x = df.drop(\"target\", axis=1) \n",
    "\n",
    "# ont-hot\n",
    "# y = pd.get_dummies(y_origin)\n",
    "# x = pd.get_dummies(x_origin)\n",
    "\n",
    "# label encoder\n",
    "# 创建 LabelEncoder 实例\n",
    "# label_encoder_y = LabelEncoder()\n",
    "\n",
    "# 对 \"Category\" 列进行编码\n",
    "# y = label_encoder_y.fit_transform(y_origin)\n",
    "\n",
    "# divide train data\n",
    "x_train, x_test, y_train, y_test = train_test_split(x, y, test_size=0.1, random_state=random_seed)"
   ]
  },
  {
   "cell_type": "markdown",
   "metadata": {},
   "source": [
    "# linear & cross-fold"
   ]
  },
  {
   "cell_type": "code",
   "execution_count": 7,
   "metadata": {},
   "outputs": [
    {
     "name": "stdout",
     "output_type": "stream",
     "text": [
      "模型准确度: 0.81\n",
      "真实标签:  12     0\n",
      "182    0\n",
      "75     0\n",
      "124    1\n",
      "183    0\n",
      "151    0\n",
      "46     1\n",
      "267    1\n",
      "61     1\n",
      "56     1\n",
      "246    1\n",
      "130    0\n",
      "170    1\n",
      "245    0\n",
      "77     0\n",
      "97     0\n",
      "26     0\n",
      "254    0\n",
      "15     0\n",
      "32     0\n",
      "176    1\n",
      "67     1\n",
      "199    1\n",
      "140    1\n",
      "78     0\n",
      "212    0\n",
      "36     1\n",
      "Name: target, dtype: int32\n",
      "预测标签:  [0 0 1 1 0 1 0 1 1 1 0 0 1 0 0 0 1 0 0 0 1 1 1 1 0 0 1]\n"
     ]
    }
   ],
   "source": [
    "# 创建支持向量机分类器\n",
    "svm_model_linear = SVC(kernel='linear', random_state=random_seed)\n",
    "\n",
    "# 训练模型\n",
    "svm_model_linear.fit(x_train, y_train)\n",
    "\n",
    "# 在测试集上进行预测\n",
    "y_pred = svm_model_linear.predict(x_test)\n",
    "\n",
    "# 计算准确度\n",
    "accuracy = accuracy_score(y_test, y_pred)\n",
    "print(f\"模型准确度: {accuracy:.2f}\")\n",
    "\n",
    "# 查看分类结果\n",
    "print(\"真实标签: \", y_test)\n",
    "print(\"预测标签: \", y_pred)"
   ]
  },
  {
   "cell_type": "code",
   "execution_count": 8,
   "metadata": {},
   "outputs": [
    {
     "name": "stdout",
     "output_type": "stream",
     "text": [
      "每个折叠的得分: [0.77777778 0.77777778 0.87037037 0.86792453 0.86792453]\n",
      "平均得分: 0.83\n"
     ]
    }
   ],
   "source": [
    "# 创建支持向量机分类器\n",
    "svm_model_linear_corss = SVC(kernel='linear', random_state=random_seed)\n",
    "\n",
    "# 使用 cross_val_score 执行 5 折交叉验证\n",
    "scores = cross_val_score(svm_model_linear_corss, x, y, cv=5)\n",
    "\n",
    "# 输出每个折叠的得分和平均得分\n",
    "print(f\"每个折叠的得分: {scores}\")\n",
    "print(f\"平均得分: {scores.mean():.2f}\")"
   ]
  },
  {
   "cell_type": "markdown",
   "metadata": {},
   "source": [
    "# poly"
   ]
  },
  {
   "cell_type": "code",
   "execution_count": 9,
   "metadata": {},
   "outputs": [
    {
     "name": "stdout",
     "output_type": "stream",
     "text": [
      "模型准确度: 0.78\n",
      "真实标签:  12     0\n",
      "182    0\n",
      "75     0\n",
      "124    1\n",
      "183    0\n",
      "151    0\n",
      "46     1\n",
      "267    1\n",
      "61     1\n",
      "56     1\n",
      "246    1\n",
      "130    0\n",
      "170    1\n",
      "245    0\n",
      "77     0\n",
      "97     0\n",
      "26     0\n",
      "254    0\n",
      "15     0\n",
      "32     0\n",
      "176    1\n",
      "67     1\n",
      "199    1\n",
      "140    1\n",
      "78     0\n",
      "212    0\n",
      "36     1\n",
      "Name: target, dtype: int32\n",
      "预测标签:  [0 1 0 1 0 1 0 1 1 1 0 0 1 0 0 0 0 0 0 0 1 0 1 0 0 0 1]\n"
     ]
    }
   ],
   "source": [
    "# 创建支持向量机分类器\n",
    "svm_model_poly = SVC(kernel='poly', random_state=random_seed)\n",
    "\n",
    "# 训练模型\n",
    "svm_model_poly.fit(x_train, y_train)\n",
    "\n",
    "# 在测试集上进行预测\n",
    "y_pred = svm_model_poly.predict(x_test)\n",
    "\n",
    "# 计算准确度\n",
    "accuracy = accuracy_score(y_test, y_pred)\n",
    "print(f\"模型准确度: {accuracy:.2f}\")\n",
    "\n",
    "# 查看分类结果\n",
    "print(\"真实标签: \", y_test)\n",
    "print(\"预测标签: \", y_pred)"
   ]
  },
  {
   "cell_type": "code",
   "execution_count": 10,
   "metadata": {},
   "outputs": [
    {
     "name": "stdout",
     "output_type": "stream",
     "text": [
      "每个折叠的得分: [0.66666667 0.7962963  0.81481481 0.71698113 0.86792453]\n",
      "平均得分: 0.77\n"
     ]
    }
   ],
   "source": [
    "# 创建支持向量机分类器\n",
    "svm_model_poly_corss = SVC(kernel=\"poly\", random_state=random_seed)\n",
    "\n",
    "# 使用 cross_val_score 执行 5 折交叉验证\n",
    "scores = cross_val_score(svm_model_poly_corss, x, y, cv=5)\n",
    "\n",
    "# 输出每个折叠的得分和平均得分\n",
    "print(f\"每个折叠的得分: {scores}\")\n",
    "print(f\"平均得分: {scores.mean():.2f}\")"
   ]
  },
  {
   "cell_type": "markdown",
   "metadata": {},
   "source": [
    "# rbf"
   ]
  },
  {
   "cell_type": "code",
   "execution_count": 11,
   "metadata": {},
   "outputs": [
    {
     "name": "stdout",
     "output_type": "stream",
     "text": [
      "模型准确度: 0.78\n",
      "真实标签:  12     0\n",
      "182    0\n",
      "75     0\n",
      "124    1\n",
      "183    0\n",
      "151    0\n",
      "46     1\n",
      "267    1\n",
      "61     1\n",
      "56     1\n",
      "246    1\n",
      "130    0\n",
      "170    1\n",
      "245    0\n",
      "77     0\n",
      "97     0\n",
      "26     0\n",
      "254    0\n",
      "15     0\n",
      "32     0\n",
      "176    1\n",
      "67     1\n",
      "199    1\n",
      "140    1\n",
      "78     0\n",
      "212    0\n",
      "36     1\n",
      "Name: target, dtype: int32\n",
      "预测标签:  [0 1 1 1 0 1 0 1 1 1 0 0 1 0 0 0 0 0 0 0 1 1 1 0 0 0 1]\n"
     ]
    }
   ],
   "source": [
    "# 创建支持向量机分类器\n",
    "svm_model_rbf = SVC(kernel='rbf', random_state=random_seed)\n",
    "\n",
    "# 训练模型\n",
    "svm_model_rbf.fit(x_train, y_train)\n",
    "\n",
    "# 在测试集上进行预测\n",
    "y_pred = svm_model_rbf.predict(x_test)\n",
    "\n",
    "# 计算准确度\n",
    "accuracy = accuracy_score(y_test, y_pred)\n",
    "print(f\"模型准确度: {accuracy:.2f}\")\n",
    "\n",
    "# 查看分类结果\n",
    "print(\"真实标签: \", y_test)\n",
    "print(\"预测标签: \", y_pred)"
   ]
  },
  {
   "cell_type": "code",
   "execution_count": 12,
   "metadata": {},
   "outputs": [
    {
     "name": "stdout",
     "output_type": "stream",
     "text": [
      "每个折叠的得分: [0.66666667 0.81481481 0.88888889 0.81132075 0.8490566 ]\n",
      "平均得分: 0.81\n"
     ]
    }
   ],
   "source": [
    "# 创建支持向量机分类器\n",
    "svm_model_rbf_corss = SVC(kernel=\"rbf\", random_state=random_seed)\n",
    "\n",
    "# 使用 cross_val_score 执行 5 折交叉验证\n",
    "scores = cross_val_score(svm_model_rbf_corss, x, y, cv=5)\n",
    "\n",
    "# 输出每个折叠的得分和平均得分\n",
    "print(f\"每个折叠的得分: {scores}\")\n",
    "print(f\"平均得分: {scores.mean():.2f}\")"
   ]
  },
  {
   "cell_type": "markdown",
   "metadata": {},
   "source": [
    "# 网格搜索"
   ]
  },
  {
   "cell_type": "code",
   "execution_count": 13,
   "metadata": {},
   "outputs": [
    {
     "name": "stdout",
     "output_type": "stream",
     "text": [
      "最佳参数:  {'C': 1, 'gamma': 0.1, 'kernel': 'rbf'}\n",
      "最佳得分:  0.8467687074829933\n"
     ]
    }
   ],
   "source": [
    "# 定义 SVM 模型\n",
    "svm = SVC()\n",
    "\n",
    "# 参数网格\n",
    "param_grid = {\n",
    "    'C': [0.1, 1, 10],\n",
    "    'gamma': [0.01, 0.1, 1],\n",
    "    'kernel': ['linear', 'rbf']\n",
    "}\n",
    "\n",
    "# 网格搜索\n",
    "grid_search = GridSearchCV(svm, param_grid, cv=5)\n",
    "grid_search.fit(x_train, y_train)\n",
    "\n",
    "print(\"最佳参数: \", grid_search.best_params_)\n",
    "print(\"最佳得分: \", grid_search.best_score_)"
   ]
  }
 ],
 "metadata": {
  "kernelspec": {
   "display_name": "ml",
   "language": "python",
   "name": "python3"
  },
  "language_info": {
   "codemirror_mode": {
    "name": "ipython",
    "version": 3
   },
   "file_extension": ".py",
   "mimetype": "text/x-python",
   "name": "python",
   "nbconvert_exporter": "python",
   "pygments_lexer": "ipython3",
   "version": "3.10.12"
  }
 },
 "nbformat": 4,
 "nbformat_minor": 2
}
